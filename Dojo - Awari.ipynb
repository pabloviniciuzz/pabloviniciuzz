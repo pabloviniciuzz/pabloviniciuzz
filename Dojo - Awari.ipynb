{
  "nbformat": 4,
  "nbformat_minor": 0,
  "metadata": {
    "colab": {
      "name": "Semana_13.ipynb",
      "provenance": [],
      "include_colab_link": true
    },
    "kernelspec": {
      "name": "python3",
      "display_name": "Python 3"
    },
    "language_info": {
      "name": "python"
    }
  },
  "cells": [
    {
      "cell_type": "markdown",
      "metadata": {
        "id": "view-in-github",
        "colab_type": "text"
      },
      "source": [
        "<a href=\"https://colab.research.google.com/github/pabloviniciuzz/pabloviniciuzz/blob/main/Dojo%20-%20Awari.ipynb\" target=\"_parent\"><img src=\"https://colab.research.google.com/assets/colab-badge.svg\" alt=\"Open In Colab\"/></a>"
      ]
    },
    {
      "cell_type": "markdown",
      "source": [
        "### DojoPuzzles.com\n"
      ],
      "metadata": {
        "id": "6fJB4oqHLL0P"
      }
    },
    {
      "cell_type": "markdown",
      "source": [
        "1) Neste problema, você deverá exibir uma lista de 1 a 100, um em cada linha, com as seguintes exceções:\n",
        "\n",
        "Números divisíveis por 3 deve aparecer como 'Fizz' ao invés do número;\n",
        "\n",
        "Números divisíveis por 5 devem aparecer como 'Buzz' ao invés do número;\n",
        "\n",
        "Números divisíveis por 3 e 5 devem aparecer como 'FizzBuzz' ao invés do número'."
      ],
      "metadata": {
        "id": "bC92Elc8LPWc"
      }
    },
    {
      "cell_type": "code",
      "source": [
        ""
      ],
      "metadata": {
        "id": "nBJBehgNXwRF"
      },
      "execution_count": null,
      "outputs": []
    },
    {
      "cell_type": "markdown",
      "source": [
        "### donuts\n",
        "\n",
        "Dado um contador inteiro do numero de donuts, retorne uma string com o formato 'Number of donuts: <count>' onde <count> é o numero recebido. \n",
        "\n",
        "Entretanto, se o contador for 10 ou mais, use a palavra 'many' ao invés do contador.\n",
        "\n",
        "    Exemplo: \n",
        "    donuts(5) retorna 'Number of donuts: 5'\n",
        "    donuts(23) retorna 'Number of donuts: many'\n"
      ],
      "metadata": {
        "id": "5CTpa7YKLTU0"
      }
    },
    {
      "cell_type": "code",
      "source": [
        ""
      ],
      "metadata": {
        "id": "OAcfN18OXx-V"
      },
      "execution_count": null,
      "outputs": []
    },
    {
      "cell_type": "markdown",
      "source": [
        "### both_ends\n",
        "\n",
        "Dada uma string s, retorne uma string feita com os dois primeiros e os dois ultimos caracteres da string original.\n",
        "\n",
        "    Exemplo: \n",
        "    'spring' retorna 'spng'. Entretanto, se o tamanho da string for menor que 2, retorne uma string vazia."
      ],
      "metadata": {
        "id": "gLrdTU6aOyvT"
      }
    },
    {
      "cell_type": "code",
      "source": [
        ""
      ],
      "metadata": {
        "id": "JoAlEUvQXzG2"
      },
      "execution_count": null,
      "outputs": []
    },
    {
      "cell_type": "markdown",
      "source": [
        "### not_bad\n",
        "\n",
        "Dada uma string, encontre a primeira aparição das substrings 'not bad', substitua por 'good' e retorne a string resultante.\n",
        "\n",
        "    Exemplo: \n",
        "    'The dinner is not bad!' retorna 'The dinner is good!'"
      ],
      "metadata": {
        "id": "8aMOqUDBQaju"
      }
    },
    {
      "cell_type": "code",
      "source": [
        ""
      ],
      "metadata": {
        "id": "FlNkNCo4X1K6"
      },
      "execution_count": null,
      "outputs": []
    },
    {
      "cell_type": "markdown",
      "source": [
        "### mix_up\n",
        "\n",
        "\n",
        "Dadas as strings a e b, retorne uma string com a e b separados por um espaço 'a b', além disso, troque os 2 primeiros caracteres das duas strings.\n",
        "\n",
        "    Exemplo:\n",
        "\n",
        "    'mix', 'pod' -> 'pox mid'\n",
        "    'dog, 'dinner' -> 'dig donner'\n",
        "\n",
        "Assuma que a e b tem tamanho 2 ou maior.\n"
      ],
      "metadata": {
        "id": "u4kSgXf_PN5n"
      }
    },
    {
      "cell_type": "code",
      "source": [
        ""
      ],
      "metadata": {
        "id": "3sI8uPJcX2wT"
      },
      "execution_count": null,
      "outputs": []
    },
    {
      "cell_type": "markdown",
      "source": [
        "### WordCount\n",
        "\n",
        "Faça um dicionário que armazene a contagem de palavras em uma lista"
      ],
      "metadata": {
        "id": "f5omVC04SV7y"
      }
    },
    {
      "cell_type": "code",
      "source": [
        ""
      ],
      "metadata": {
        "id": "yvufN8ymX521"
      },
      "execution_count": null,
      "outputs": []
    },
    {
      "cell_type": "markdown",
      "source": [
        "### Dicts"
      ],
      "metadata": {
        "id": "6b46dTOZSY-U"
      }
    },
    {
      "cell_type": "markdown",
      "source": [
        "Encontre palavras chaves em um dicionário e apresente o valor de cada palavra. Em seguida, utilizando um frase, faça o somatório de todos os valores das palavras chaves e apresente o resultado"
      ],
      "metadata": {
        "id": "VNnhKMpiVMNQ"
      }
    },
    {
      "cell_type": "code",
      "source": [
        ""
      ],
      "metadata": {
        "id": "FYEFO6OLWz4v"
      },
      "execution_count": null,
      "outputs": []
    }
  ]
}